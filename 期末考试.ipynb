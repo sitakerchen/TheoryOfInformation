{
 "cells": [
  {
   "cell_type": "code",
   "execution_count": 1,
   "metadata": {},
   "outputs": [],
   "source": [
    "import FLib as fb"
   ]
  },
  {
   "cell_type": "code",
   "execution_count": 2,
   "metadata": {},
   "outputs": [],
   "source": [
    "import numpy as np\n",
    "def minD(l):\n",
    "    d = 0xffff\n",
    "    for i in range(len(l)):\n",
    "        for j in range(i+1,len(l)):\n",
    "            temp = 0\n",
    "            for k in range(0,len(l[0])):\n",
    "                    if l[i][k]!=l[j][k]:\n",
    "                        temp = temp + 1\n",
    "            d = min(d,temp)\n",
    "    print('d0 =  %d' % d)"
   ]
  },
  {
   "cell_type": "code",
   "execution_count": 19,
   "metadata": {},
   "outputs": [
    {
     "name": "stdout",
     "output_type": "stream",
     "text": [
      "x1:1/8 successful added!\n",
      "x2:7/8 successful added!\n",
      "ans = 0.54356 bit\n"
     ]
    }
   ],
   "source": [
    "fb.add_pro_auto('x1,1/8;x2,7/8')\n",
    "\n",
    "fb.print_b(fb.H_sel('x',2)) #信源熵\n",
    "# fb.H_mutual() #平均互信息\n",
    "# fb.H_equivocation() #损失熵\n",
    "# fb.H_Noise() #噪声熵\n",
    "\n",
    "# fb.I_sef() #自信息\n",
    "fb.clear_allMyPro()"
   ]
  },
  {
   "cell_type": "code",
   "execution_count": 21,
   "metadata": {},
   "outputs": [
    {
     "name": "stdout",
     "output_type": "stream",
     "text": [
      "d0 =  3\n"
     ]
    }
   ],
   "source": [
    "minD(['000000', '001011', '010110', '011101', '100111', '101100', '110001', '111010'])"
   ]
  },
  {
   "cell_type": "code",
   "execution_count": null,
   "metadata": {},
   "outputs": [],
   "source": [
    "1.58496 bit  1.75000 bit  1.00000 bit 0.46900 bit"
   ]
  }
 ],
 "metadata": {
  "kernelspec": {
   "display_name": "Python 3",
   "language": "python",
   "name": "python3"
  },
  "language_info": {
   "codemirror_mode": {
    "name": "ipython",
    "version": 3
   },
   "file_extension": ".py",
   "mimetype": "text/x-python",
   "name": "python",
   "nbconvert_exporter": "python",
   "pygments_lexer": "ipython3",
   "version": "3.7.6"
  }
 },
 "nbformat": 4,
 "nbformat_minor": 4
}
