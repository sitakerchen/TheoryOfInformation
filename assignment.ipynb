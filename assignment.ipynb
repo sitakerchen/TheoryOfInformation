{
 "cells": [
  {
   "cell_type": "code",
   "execution_count": 1,
   "metadata": {},
   "outputs": [],
   "source": [
    "import FLib as fb"
   ]
  },
  {
   "cell_type": "code",
   "execution_count": 2,
   "metadata": {},
   "outputs": [
    {
     "name": "stdout",
     "output_type": "stream",
     "text": [
      "x1y1:1/8 successful added!\n",
      "x1y2:1/16 successful added!\n",
      "x2y1:3/16 successful added!\n",
      "x2y2:10/16 successful added!\n",
      "x1:3/16 successful added!\n",
      "x2:13/16 successful added!\n",
      "y1:5/16 successful added!\n",
      "y2:11/16 successful added!\n"
     ]
    }
   ],
   "source": [
    "fb.add_pro_auto('x1y1,1/8;x1y2,1/16;x2y1,3/16;x2y2,10/16;x1,3/16;x2,13/16;y1,5/16;y2,11/16')"
   ]
  },
  {
   "cell_type": "code",
   "execution_count": 3,
   "metadata": {},
   "outputs": [
    {
     "data": {
      "text/plain": [
       "-1.7014404442195934"
      ]
     },
     "execution_count": 3,
     "metadata": {},
     "output_type": "execute_result"
    }
   ],
   "source": [
    "fb.I_avg_mutual('x','y',2)"
   ]
  },
  {
   "cell_type": "code",
   "execution_count": null,
   "metadata": {},
   "outputs": [],
   "source": []
  }
 ],
 "metadata": {
  "kernelspec": {
   "display_name": "Python 3",
   "language": "python",
   "name": "python3"
  },
  "language_info": {
   "codemirror_mode": {
    "name": "ipython",
    "version": 3
   },
   "file_extension": ".py",
   "mimetype": "text/x-python",
   "name": "python",
   "nbconvert_exporter": "python",
   "pygments_lexer": "ipython3",
   "version": "3.7.4"
  }
 },
 "nbformat": 4,
 "nbformat_minor": 4
}
