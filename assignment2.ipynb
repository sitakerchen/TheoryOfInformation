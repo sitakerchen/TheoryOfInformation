{
 "cells": [
  {
   "cell_type": "code",
   "execution_count": 1,
   "metadata": {},
   "outputs": [],
   "source": [
    "import FLib as fb"
   ]
  },
  {
   "cell_type": "code",
   "execution_count": 2,
   "metadata": {},
   "outputs": [
    {
     "name": "stdout",
     "output_type": "stream",
     "text": [
      "x0:3/16 successful added!\n",
      "x1:13/16 successful added!\n",
      "y0:5/16 successful added!\n",
      "y1:11/16 successful added!\n",
      "x0y0:1/8 successful added!\n",
      "x0y1:1/16 successful added!\n",
      "x1y0:3/16 successful added!\n",
      "x1y1:10/16 successful added!\n"
     ]
    }
   ],
   "source": [
    "fb.add_pro_auto('x0,3/16;x1,13/16;y0,5/16;y1,11/16;x0y0,1/8;x0y1,1/16;x1y0,3/16;x1y1,10/16')"
   ]
  },
  {
   "cell_type": "code",
   "execution_count": 12,
   "metadata": {},
   "outputs": [
    {
     "name": "stdout",
     "output_type": "stream",
     "text": [
      "x0:3/16\n",
      "x1:13/16\n",
      "y0:5/16\n",
      "y1:11/16\n",
      "x0y0:1/8\n",
      "x0y1:1/16\n",
      "x1y0:3/16\n",
      "x1y1:5/8\n",
      "x1|y1:10/11\n",
      "x0|y0:2/5\n",
      "x0|y1:1/11\n",
      "x1|y0:3/5\n"
     ]
    }
   ],
   "source": [
    "fb.show_allMyPro()"
   ]
  },
  {
   "cell_type": "code",
   "execution_count": 15,
   "metadata": {},
   "outputs": [
    {
     "data": {
      "text/plain": [
       "Fraction(10, 11)"
      ]
     },
     "execution_count": 15,
     "metadata": {},
     "output_type": "execute_result"
    }
   ],
   "source": []
  },
  {
   "cell_type": "code",
   "execution_count": null,
   "metadata": {},
   "outputs": [],
   "source": []
  },
  {
   "cell_type": "code",
   "execution_count": 17,
   "metadata": {},
   "outputs": [],
   "source": [
    "ans = 0\n",
    "for i in range(0,2):\n",
    "    for j in range(0,2):\n",
    "        aim = fb.cn_x(i)+fb.cn_y(j)\n",
    "#         print(aim,aim[:2]+'|'+aim[2:])\n",
    "        ans = ans + fb.p(aim)*fb.I_sef(aim[:2]+'|'+aim[2:])"
   ]
  },
  {
   "cell_type": "code",
   "execution_count": 18,
   "metadata": {},
   "outputs": [
    {
     "name": "stdout",
     "output_type": "stream",
     "text": [
      "0.60558 bit\n"
     ]
    }
   ],
   "source": [
    "fb.print_b(ans)"
   ]
  },
  {
   "cell_type": "code",
   "execution_count": 19,
   "metadata": {},
   "outputs": [
    {
     "data": {
      "text/plain": [
       "0.09063376072437568"
      ]
     },
     "execution_count": 19,
     "metadata": {},
     "output_type": "execute_result"
    }
   ],
   "source": [
    "0.69621-ans"
   ]
  },
  {
   "cell_type": "code",
   "execution_count": null,
   "metadata": {},
   "outputs": [],
   "source": []
  }
 ],
 "metadata": {
  "kernelspec": {
   "display_name": "Python 3",
   "language": "python",
   "name": "python3"
  },
  "language_info": {
   "codemirror_mode": {
    "name": "ipython",
    "version": 3
   },
   "file_extension": ".py",
   "mimetype": "text/x-python",
   "name": "python",
   "nbconvert_exporter": "python",
   "pygments_lexer": "ipython3",
   "version": "3.7.4"
  }
 },
 "nbformat": 4,
 "nbformat_minor": 4
}
